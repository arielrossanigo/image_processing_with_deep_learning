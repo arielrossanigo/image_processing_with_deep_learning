{
 "cells": [
  {
   "cell_type": "markdown",
   "metadata": {
    "slideshow": {
     "slide_type": "slide"
    }
   },
   "source": [
    "# Deep Learning para el procesado de imágenes\n",
    "\n",
    "\n",
    "\n",
    "\n",
    "\n",
    "\n",
    "\n",
    "\n",
    "\n",
    "**Ariel Rossanigo**\n"
   ]
  },
  {
   "cell_type": "markdown",
   "metadata": {
    "slideshow": {
     "slide_type": "slide"
    }
   },
   "source": [
    "### Quien soy?\n",
    "\n",
    "* Ariel Rossanigo\n",
    "* Profe de Inteligencia Artificial\n",
    "* Developer, Data Scientist\n",
    "* Co-Founder of Bloom AI\n"
   ]
  },
  {
   "cell_type": "markdown",
   "metadata": {
    "slideshow": {
     "slide_type": "slide"
    }
   },
   "source": [
    "\n",
    "### Objetivos de la charla\n",
    "\n",
    "* Breve introducción a algunos conceptos básicos de machine learning\n",
    "* Presentar que es un red neuronal y como se pueden usar para clasificar imágenes\n",
    "* Presentar un ejemplo de clasificación desde 0 usando Keras\n"
   ]
  },
  {
   "cell_type": "markdown",
   "metadata": {
    "slideshow": {
     "slide_type": "slide"
    }
   },
   "source": [
    "### Agenda\n",
    "\n",
    "* ¿Qué es Machine Learning? \n",
    "* Redes neuronales. ¿Qué son? ¿Cómo funcionan?\n",
    "* Deep Learning.\n",
    "* Layers de convolución.\n",
    "* Pooling\n",
    "* DropOut\n",
    "* Ejemplo de clasificación"
   ]
  },
  {
   "cell_type": "markdown",
   "metadata": {
    "slideshow": {
     "slide_type": "slide"
    }
   },
   "source": [
    "### Machine Learning\n",
    "\n",
    "*Field of study that gives computers the ability to learn without being explicitly programmed*\n",
    "\n",
    "<div><img src=\"imgs/machine_learning_1.jpg\" width=\"100%\" style=\"float: left; margin: 10px;\" align=\"middle\"></div>"
   ]
  },
  {
   "cell_type": "markdown",
   "metadata": {
    "slideshow": {
     "slide_type": "subslide"
    }
   },
   "source": [
    "### Tipos de aprendizaje: \n",
    "\n",
    "<div><img src=\"imgs/unsupervised_learning.png\" width=\"70%\" style=\"float: right;\" align=\"middle\"></div>\n",
    "\n",
    "* **No supervisado**\n",
    "\n",
    "<div style=\"clear:both;\"></div>\n",
    "https://www.quora.com/To-what-kind-of-real-world-problems-is-unsupervised-learning-applied"
   ]
  },
  {
   "cell_type": "markdown",
   "metadata": {
    "slideshow": {
     "slide_type": "subslide"
    }
   },
   "source": [
    "### Tipos de aprendizaje: \n",
    "\n",
    "<div><img src=\"imgs/reinforcement_learning.png\" width=\"50%\" style=\"float: right;\" align=\"middle\"></div>\n",
    "\n",
    "* No supervisado \n",
    "* **Por refuerzo**\n",
    "\n",
    "<div style=\"clear:both;\"></div>\n",
    "http://www.cs.utexas.edu/~eladlieb/RLRG.html"
   ]
  },
  {
   "cell_type": "markdown",
   "metadata": {
    "slideshow": {
     "slide_type": "subslide"
    }
   },
   "source": [
    "### Tipos de aprendizaje: \n",
    "\n",
    "<div><img src=\"imgs/supervised_learning.png\" width=\"70%\" style=\"float: right;\" align=\"middle\"></div>\n",
    "\n",
    "* No supervisado \n",
    "* Por refuerzo\n",
    "* **Supervisado**\n",
    " * Regresión\n",
    " * Clasificación\n",
    " \n",
    "<div style=\"clear:both;\"></div>\n",
    "Artificial Intelligence, A modern approach. Russell, Norvig\n",
    "\n",
    "https://www.coursera.org/learn/machine-learning"
   ]
  },
  {
   "cell_type": "markdown",
   "metadata": {
    "slideshow": {
     "slide_type": "subslide"
    }
   },
   "source": [
    "### Conceptos importantes\n",
    "\n",
    "* Modelo e hipótesis\n",
    "* Entrenamiento y función de error\n"
   ]
  },
  {
   "cell_type": "markdown",
   "metadata": {
    "slideshow": {
     "slide_type": "notes"
    }
   },
   "source": [
    "* Modelo: ecuacion, template que va a tener la función a aprender, hipotesis, parametros transformados a numeros\n",
    "* Encontrar los parametros es lo que llamamos entrenamiento\n",
    "* Para saber que hipotesis se ajusta mejor a los datos, usamos una funcion de error"
   ]
  },
  {
   "cell_type": "markdown",
   "metadata": {
    "slideshow": {
     "slide_type": "slide"
    }
   },
   "source": [
    "<em style=\"float: right;\">10</em>\n",
    "\n",
    "### Redes neuronales\n",
    "\n",
    "<div><img src=\"imgs/neuron.jpeg\" width=\"400\" style=\"float: left; margin: 10px;\"></div>\n",
    "\n",
    "<div><img src=\"imgs/neural_network.jpg\" width=\"400\" style=\"float: right; margin: 10px;\"></div>\n",
    "\n",
    "<div style=\"clear:both;\"></div>\n",
    "http://cs231n.github.io/neural-networks-1/"
   ]
  },
  {
   "cell_type": "markdown",
   "metadata": {
    "slideshow": {
     "slide_type": "notes"
    }
   },
   "source": [
    "Is a model inspired by the human brain. In this sense, a neuron is the simpler compute unit of the brain.\n",
    "\n",
    "We can see a neuron like a linear regression model (lineal function), where each input is connected with a weight and sum to produce an output. \n",
    "In the matematical model, the sum is passed through an activation function to produce the real output. \n",
    "The idea is that we can \"train\" the neuron adjusting the weights in order to produce the output that we want.\n",
    "\n",
    "Because this model involve a lot of neurons we talk about networks.\n",
    "In the ANN we'll organice the neurons in layers. Some common names for this layers (when we talk about feed forward networks) are input, output, and hidden layers."
   ]
  },
  {
   "cell_type": "markdown",
   "metadata": {
    "slideshow": {
     "slide_type": "subslide"
    }
   },
   "source": [
    "### Redes neuronales: Noción básica de funcionamiento\n",
    "\n",
    "<div><img src=\"imgs/mnist_input.png\" width=\"400\" align=\"middle\" style=\" margin: 10px;\" ></div>\n",
    "\n",
    "\n",
    "https://codelabs.developers.google.com/codelabs/cloud-tensorflow-mnist/#0"
   ]
  },
  {
   "cell_type": "markdown",
   "metadata": {
    "slideshow": {
     "slide_type": "notes"
    }
   },
   "source": [
    "* Explicacion de MNIST\n",
    "* Porque 10 neuronas?\n",
    "* El entrenamiento va a tratar de ajustar los pesos de manera tal que se active la neurona cuando los pixeles sean los esperados"
   ]
  },
  {
   "cell_type": "code",
   "execution_count": null,
   "metadata": {
    "slideshow": {
     "slide_type": "subslide"
    }
   },
   "outputs": [],
   "source": [
    "%matplotlib inline\n",
    "from helpers import get_mnist_demo, show_weights\n",
    "model, X, y = get_mnist_demo()\n",
    "\n",
    "show_weights(model)"
   ]
  },
  {
   "cell_type": "markdown",
   "metadata": {
    "slideshow": {
     "slide_type": "notes"
    }
   },
   "source": [
    "* Cada cuadrado es una neurona\n",
    "* cada pixel representa el valor del peso asociado a la entrada en la misma posicion"
   ]
  },
  {
   "cell_type": "code",
   "execution_count": null,
   "metadata": {
    "scrolled": true,
    "slideshow": {
     "slide_type": "slide"
    }
   },
   "outputs": [],
   "source": [
    "for i in range(5):\n",
    "    model.fit(X, y, epochs=3, verbose=False)\n",
    "    show_weights(model)"
   ]
  },
  {
   "cell_type": "markdown",
   "metadata": {
    "slideshow": {
     "slide_type": "notes"
    }
   },
   "source": [
    "Tiene que quedar claro que hasta acá no hay una red neuronal, son neuronas independientes"
   ]
  },
  {
   "cell_type": "markdown",
   "metadata": {
    "slideshow": {
     "slide_type": "subslide"
    }
   },
   "source": [
    "### Redes neuronales: Noción básica de funcionamiento\n",
    "\n",
    "<div><img src=\"imgs/mnist_multilayer.png\" width=\"500\" align=\"middle\" style=\"margin: 10px;\"></div>\n",
    "\n",
    "https://www.youtube.com/watch?v=aircAruvnKk"
   ]
  },
  {
   "cell_type": "markdown",
   "metadata": {
    "slideshow": {
     "slide_type": "notes"
    }
   },
   "source": [
    "Para mejorar la performance podemos meter layers. Sin layers ocultos problemas que no son linealmente separables no pueden ser resueltos (caso del XOR.\n",
    "\n",
    "La idea de meter layers es que cada layer vaya concentrando características y reduciendo la complejidad de la entrada del siguiente."
   ]
  },
  {
   "cell_type": "markdown",
   "metadata": {
    "slideshow": {
     "slide_type": "slide"
    }
   },
   "source": [
    "### Deep Learning\n",
    "\n",
    "*The hierarchy of concepts enables the computer to learn complicated concepts by building them out of simpler ones. If we draw a graph showing how these concepts are built on top of each other, the graph is deep, with many layers. For this reason,we call this approach to AI deep learning.*\n",
    "\n",
    "*La jerarquía de conceptos le permite a la computadora aprender conceptos complejos a partir de objetos más simples. Si dibujamos un grafo mostrando como estos conceptos se construyen arriba de los demás, ese grafo va a ser profundo, con muchas capas. Por esta razón, llamamo a este enfoque de IA Aprendizaje Profundo*\n",
    "\n",
    "**Goodfellow et al 2016**"
   ]
  },
  {
   "cell_type": "markdown",
   "metadata": {
    "slideshow": {
     "slide_type": "slide"
    }
   },
   "source": [
    "<em style=\"float: right;\">16</em>\n",
    "\n",
    "### Convoluciones\n",
    "\n",
    "<div><img src=\"imgs/conv_explanation.jpg\" width=\"50%\" style=\"float: left;\"></div>\n",
    "\n",
    "https://developer.apple.com/library/content/documentation/Performance/Conceptual/vImage/ConvolutionOperations/ConvolutionOperations.html"
   ]
  },
  {
   "cell_type": "markdown",
   "metadata": {
    "slideshow": {
     "slide_type": "notes"
    }
   },
   "source": [
    "El primero y quizas el mas importante en temas de CV. \n",
    "Explicacion de la operacion de convolucion\n",
    "\n",
    "Porque es importante:\n",
    "* Dependiendo del kernel que usamos podemos aplicar distintos tipos de operaciones\n",
    "* Porque aprendemos un filtro y lo podemos usar en cualquier parte de la imagen\n",
    "\n",
    "Como elegimos el kernel?\n",
    "* Se inicializan random y se entrenan los pesos\n",
    "* Vamos a tener muchos kernels por cada layer generando distintas feature maps intermedios"
   ]
  },
  {
   "cell_type": "markdown",
   "metadata": {
    "slideshow": {
     "slide_type": "subslide"
    }
   },
   "source": [
    "### Convoluciones\n",
    "\n",
    "\n",
    "<div><img src=\"imgs/applying_filter.gif\" width=\"80%\" style=\"float: left; margin: 10px;\"></div>\n",
    "\n",
    "https://www.kdnuggets.com/2016/11/intuitive-explanation-convolutional-neural-networks.html/2"
   ]
  },
  {
   "cell_type": "markdown",
   "metadata": {
    "slideshow": {
     "slide_type": "subslide"
    }
   },
   "source": [
    "\n",
    "### Convoluciones\n",
    "\n",
    "#### Parámetros más comunes\n",
    "\n",
    "* **filters:** cantidad de filtros\n",
    "* **kernel_size:** tamaño del kernel\n",
    "* **strides:** la cantidad de pasos que muevo el kernel\n",
    "* **padding:** agrega ceros en los bordes para mantener el tamaño original\n",
    "* **activation:** función de activación aplicada ``pixel a pixel``\n"
   ]
  },
  {
   "cell_type": "markdown",
   "metadata": {
    "slideshow": {
     "slide_type": "slide"
    }
   },
   "source": [
    "<em style=\"float: right;\">26</em>\n",
    "\n",
    "### Pooling\n",
    "\n",
    "<div><img src=\"imgs/max_pooling.png\" width=\"50%\" style=\"float: left;\"></div>\n",
    "\n",
    "<div style=\"clear:both;\"></div>\n",
    "\n",
    "http://textminingonline.com/dive-into-tensorflow-part-v-deep-mnist"
   ]
  },
  {
   "cell_type": "markdown",
   "metadata": {
    "slideshow": {
     "slide_type": "notes"
    }
   },
   "source": [
    "* Se usan para reducir la cantidad de parametros (2 stride, kernel de 2, 2 reduce a 25% la cantidad de parametros)\n",
    "* Hace mas complicado el sobreentrenamiento\n",
    "\n",
    "La version mas comun es max pooling"
   ]
  },
  {
   "cell_type": "markdown",
   "metadata": {
    "slideshow": {
     "slide_type": "slide"
    }
   },
   "source": [
    "### Drop Out\n",
    "\n",
    "<div><img src=\"imgs/dropout.png\" width=\"800\" style=\"float: left;\"></div>\n",
    "\n",
    "https://www.cs.toronto.edu/~hinton/absps/JMLRdropout.pdf"
   ]
  },
  {
   "cell_type": "markdown",
   "metadata": {
    "slideshow": {
     "slide_type": "notes"
    }
   },
   "source": [
    "* Se utiliza para evitar el sobreentrenamiento\n",
    "* Consiste basicamente de \"cortar\" conexiones en la fase de entrenamiento de forma aleatoria"
   ]
  },
  {
   "cell_type": "markdown",
   "metadata": {
    "slideshow": {
     "slide_type": "slide"
    }
   },
   "source": [
    "<em style=\"float: right;\">35</em>\n",
    "\n",
    "### La red completa\n",
    "\n",
    "<div><img src=\"imgs/neural_network_complete.png\" width=\"90%\" style=\"float: left;\"></div>\n",
    "\n",
    "https://ujjwalkarn.me/2016/08/11/intuitive-explanation-convnets/comment-page-2/"
   ]
  },
  {
   "cell_type": "markdown",
   "metadata": {
    "slideshow": {
     "slide_type": "slide"
    }
   },
   "source": [
    "### Ejemplo en keras"
   ]
  },
  {
   "cell_type": "code",
   "execution_count": null,
   "metadata": {},
   "outputs": [],
   "source": [
    "import keras\n",
    "from keras.datasets import cifar10\n",
    "from keras.models import Sequential\n",
    "from keras.layers import Dense, Dropout, Activation, Flatten\n",
    "from keras.layers import Conv2D, MaxPooling2D\n",
    "\n",
    "import matplotlib.pyplot as plt\n",
    "from matplotlib import gridspec\n",
    "import numpy as np"
   ]
  },
  {
   "cell_type": "code",
   "execution_count": null,
   "metadata": {
    "slideshow": {
     "slide_type": "subslide"
    }
   },
   "outputs": [],
   "source": [
    "def show_images(images, targets=None, predictions=None, n_cols=5):    \n",
    "    n_rows = int(np.ceil(len(images) / n_cols))\n",
    "    plt.figure(figsize=(15, 6))\n",
    "    gs = gridspec.GridSpec(n_rows, n_cols, wspace=0.1, hspace=0.3)\n",
    "   \n",
    "    for i in range(len(images)):\n",
    "        nrow = int(i // n_cols)\n",
    "        ncol = int(i % n_cols)\n",
    "        im = images[i]\n",
    "        ax = plt.subplot(gs[nrow, ncol])\n",
    "        title = ''\n",
    "        if targets is not None:\n",
    "            title = '{}'.format(('Avion' if targets[i] else 'Ave'))\n",
    "        if predictions is not None:\n",
    "            prob = predictions[i][0]\n",
    "            title += ' # {} ({:.0%})'.format(('Avion' if prob > 0.5 else 'Ave'), prob)\n",
    "        ax.set_title(title)\n",
    "        ax.imshow(im)\n",
    "        ax.set_xticks([])\n",
    "        ax.set_yticks([])\n",
    "    plt.show()"
   ]
  },
  {
   "cell_type": "code",
   "execution_count": null,
   "metadata": {
    "slideshow": {
     "slide_type": "subslide"
    }
   },
   "outputs": [],
   "source": [
    "# loading data\n",
    "(x_train, y_train), (x_test, y_test) = cifar10.load_data()\n",
    "\n",
    "# solo aviones (0) y pajaros (2)\n",
    "ix_train = np.isin(y_train, [0, 2]).reshape(-1)\n",
    "x_train = x_train[ix_train]\n",
    "y_train = y_train[ix_train]\n",
    "\n",
    "ix_test = np.isin(y_test, [0, 2]).reshape(-1)\n",
    "x_test = x_train[ix_test]\n",
    "y_test = y_train[ix_test]\n",
    "\n",
    "x_train = x_train.astype('float32')\n",
    "x_test = x_test.astype('float32')\n",
    "x_train /= 255\n",
    "x_test /= 255\n",
    "\n",
    "# Convert class vectors to binary class matrices.\n",
    "y_train = y_train == 0\n",
    "y_test = y_test == 0\n",
    "\n",
    "print('x_train shape:', x_train.shape)\n",
    "print(x_train.shape[0], 'train samples')\n",
    "print(x_test.shape[0], 'test samples')"
   ]
  },
  {
   "cell_type": "code",
   "execution_count": null,
   "metadata": {
    "slideshow": {
     "slide_type": "subslide"
    }
   },
   "outputs": [],
   "source": [
    "show_images(x_train[:10], y_train[:10])"
   ]
  },
  {
   "cell_type": "code",
   "execution_count": null,
   "metadata": {
    "slideshow": {
     "slide_type": "subslide"
    }
   },
   "outputs": [],
   "source": [
    "model = Sequential()\n",
    "model.add(Conv2D(32, (3, 3), padding='same', input_shape=x_train.shape[1:]))\n",
    "model.add(Activation('relu'))\n",
    "model.add(Conv2D(32, (3, 3)))\n",
    "model.add(Activation('relu'))\n",
    "model.add(MaxPooling2D(pool_size=(2, 2)))\n",
    "model.add(Dropout(0.25))\n",
    "\n",
    "model.add(Conv2D(64, (3, 3), padding='same'))\n",
    "model.add(Activation('relu'))\n",
    "model.add(Conv2D(64, (3, 3)))\n",
    "model.add(Activation('relu'))\n",
    "model.add(MaxPooling2D(pool_size=(2, 2)))\n",
    "model.add(Dropout(0.25))\n",
    "\n",
    "model.add(Flatten())\n",
    "model.add(Dense(512))\n",
    "model.add(Activation('relu'))\n",
    "model.add(Dropout(0.5))\n",
    "model.add(Dense(1))\n",
    "model.add(Activation('sigmoid'))\n",
    "\n",
    "model.compile(loss='binary_crossentropy', optimizer='adam', metrics=['accuracy'])"
   ]
  },
  {
   "cell_type": "code",
   "execution_count": null,
   "metadata": {
    "slideshow": {
     "slide_type": "subslide"
    }
   },
   "outputs": [],
   "source": [
    "model.fit(x_train, y_train, batch_size=128, epochs=10, validation_data=(x_test, y_test), shuffle=True);"
   ]
  },
  {
   "cell_type": "code",
   "execution_count": null,
   "metadata": {
    "slideshow": {
     "slide_type": "subslide"
    }
   },
   "outputs": [],
   "source": [
    "# Score trained model.\n",
    "scores = model.evaluate(x_test, y_test, verbose=0)\n",
    "print('Test loss: {:.3f}'.format(scores[0]))\n",
    "print('Test accuracy: {:.2%}'.format(scores[1]))"
   ]
  },
  {
   "cell_type": "code",
   "execution_count": null,
   "metadata": {},
   "outputs": [],
   "source": [
    "from sklearn.metrics import classification_report, accuracy_score\n",
    "\n",
    "predictions = model.predict(x_test) \n",
    "print(classification_report(y_test, predictions > 0.5))"
   ]
  },
  {
   "cell_type": "markdown",
   "metadata": {
    "slideshow": {
     "slide_type": "subslide"
    }
   },
   "source": [
    "#### Algunos bien clasificados"
   ]
  },
  {
   "cell_type": "code",
   "execution_count": null,
   "metadata": {},
   "outputs": [],
   "source": [
    "ix = (y_test == (predictions > 0.5)).reshape(-1)\n",
    "\n",
    "images = x_test[ix][:10]\n",
    "targets = y_test[ix][:10]\n",
    "preds = predictions[ix][:10]\n",
    "show_images(images, targets=targets, predictions=preds)"
   ]
  },
  {
   "cell_type": "markdown",
   "metadata": {
    "slideshow": {
     "slide_type": "subslide"
    }
   },
   "source": [
    "#### Algunos mal clasificados"
   ]
  },
  {
   "cell_type": "code",
   "execution_count": null,
   "metadata": {
    "scrolled": true
   },
   "outputs": [],
   "source": [
    "ix = (y_test != (predictions > 0.5)).reshape(-1)\n",
    "images = x_test[ix][:10]\n",
    "targets = y_test[ix][:10]\n",
    "preds = predictions[ix][:10]\n",
    "show_images(images, targets=targets, predictions=preds)"
   ]
  },
  {
   "cell_type": "markdown",
   "metadata": {
    "slideshow": {
     "slide_type": "subslide"
    }
   },
   "source": [
    "### Una clasificación desde una imagen cualquiera"
   ]
  },
  {
   "cell_type": "code",
   "execution_count": null,
   "metadata": {},
   "outputs": [],
   "source": [
    "from keras.preprocessing import image\n",
    "img = image.load_img('imgs/superman.jpg', target_size=(224, 224))\n",
    "\n",
    "x = image.img_to_array(img.resize((32, 32))) / 255\n",
    "\n",
    "pred = model.predict(np.expand_dims(x, axis=0))\n",
    "show_images([img], predictions=pred)"
   ]
  },
  {
   "cell_type": "markdown",
   "metadata": {
    "slideshow": {
     "slide_type": "slide"
    }
   },
   "source": [
    "### Gracias! Preguntas?\n",
    "\n",
    "<div style=\"float: left;\"><img src=\"../common/imgs/man-qmark.jpg\" width=\"300\" align=\"middle\"></div> \n",
    "\n",
    "<div>\n",
    "<div>\n",
    "  <img src=\"../common/imgs/gmail-1162901_960_720.png\" style=\"width: 30px; float: left; vertical-align:middle; margin: 0px;\">\n",
    "  <span style=\"line-height:30px; vertical-align:middle; margin-left: 10px;\">arielrossanigo@gmail.com</span>\n",
    "</div>\n",
    "<div>\n",
    "  <img src=\"../common/imgs/twitter-312464_960_720.png\" style=\"width: 30px; float: left; vertical-align:middle; margin: 0px;\">\n",
    "  <span style=\"line-height:30px; vertical-align:middle; margin-left: 10px;\">@arielrossanigo</span>\n",
    "</div>\n",
    "<div>\n",
    "  <img src=\"../common/imgs/github-154769__340.png\" style=\"width: 30px; float: left; vertical-align:middle; margin: 0px;\">\n",
    "  <span style=\"line-height:30px; vertical-align:middle; margin-left: 10px;\">https://github.com/arielrossanigo</span>\n",
    "</div>\n",
    "<div>\n",
    "  <img src=\"../common/imgs/Linkedin_icon.svg\" style=\"width: 30px; float: left; vertical-align:middle; margin: 0px;\">\n",
    "  <span style=\"line-height:30px; vertical-align:middle; margin-left: 10px;\">https://www.linkedin.com/in/arielrossanigo/</span>\n",
    "</div>\n",
    "\n",
    "</div>\n"
   ]
  }
 ],
 "metadata": {
  "celltoolbar": "Slideshow",
  "kernelspec": {
   "display_name": "Python 3",
   "language": "python",
   "name": "python3"
  },
  "language_info": {
   "codemirror_mode": {
    "name": "ipython",
    "version": 3
   },
   "file_extension": ".py",
   "mimetype": "text/x-python",
   "name": "python",
   "nbconvert_exporter": "python",
   "pygments_lexer": "ipython3",
   "version": "3.6.8"
  }
 },
 "nbformat": 4,
 "nbformat_minor": 2
}
